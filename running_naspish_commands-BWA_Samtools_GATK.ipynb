{
 "cells": [
  {
   "cell_type": "markdown",
   "metadata": {},
   "source": [
    "# Overview: Nasp alternative\n",
    "\n",
    "There was a point where nasp wasn't running because of a variety of issues. I spent a few days looking into the scripts nasp runs and tried to follow them by myself. I didn't get to the end (GATK has a lot going on), but did manage to run some basic stuff with BWAmem and Samtools. Those scripts are explained below."
   ]
  },
  {
   "cell_type": "markdown",
   "metadata": {
    "collapsed": true
   },
   "source": [
    "## Decided to go a different route because sick and tired of NASP errors: goign to follow this approach:\n",
    "### use BWA index --> BWA mem (align) --> GATK (for .vcf)\n",
    "\n",
    "#### First thing: create a BWA index"
   ]
  },
  {
   "cell_type": "raw",
   "metadata": {},
   "source": [
    "BWA index creation:\n",
    "bwa index /home/orourke/brucella_australia/bruce_ref/Brucella_suis_ATCC_23445.fna.gz"
   ]
  },
  {
   "cell_type": "markdown",
   "metadata": {},
   "source": [
    "#### Next up: Run BWAmem for each set of PE data (fastq files _1 and _2)..."
   ]
  },
  {
   "cell_type": "code",
   "execution_count": null,
   "metadata": {
    "collapsed": true
   },
   "outputs": [],
   "source": [
    "Next convert the sam to bam file:"
   ]
  },
  {
   "cell_type": "raw",
   "metadata": {},
   "source": [
    "/opt/samtools/samtools-1.3/samtools view -S -b -h -o ./0436_tosort.bam ./Brucella-suis-0436_S6_L001_tosort"
   ]
  },
  {
   "cell_type": "raw",
   "metadata": {},
   "source": [
    "\n",
    "bwa mem -M /home/orourke/brucella_australia/bruce_ref/Brucella_suis_ATCC_23445.fna.gz /home/orourke/brucella_australia/bruce_reads/Brucella-suis-0436_S6_L001_R1_001.fastq.gz /home/orourke/brucella_australia/bruce_reads/Brucella-suis-0436_S6_L001_R2_001.fastq.gz > B-suis-0436-aln-pe.sam\n",
    "\n",
    "bwa mem -M /home/orourke/brucella_australia/bruce_ref/Brucella_suis_ATCC_23445.fna.gz /home/orourke/brucella_australia/bruce_reads/Brucella-suis-0437_S7_L001_R1_001.fastq.gz /home/orourke/brucella_australia/bruce_reads/Brucella-suis-0437_S7_L001_R2_001.fastq.gz > B-suis-0437-aln-pe.sam\n",
    "\n",
    "bwa mem -M /home/orourke/brucella_australia/bruce_ref/Brucella_suis_ATCC_23445.fna.gz /home/orourke/brucella_australia/bruce_reads/Brucella-suis-0438_S8_L001_R1_001.fastq.gz /home/orourke/brucella_australia/bruce_reads/Brucella-suis-0438_S8_L001_R2_001.fastq.gz > B-suis-0438-aln-pe.sam\n",
    "\n",
    "bwa mem -M /home/orourke/brucella_australia/bruce_ref/Brucella_suis_ATCC_23445.fna.gz /home/orourke/brucella_australia/bruce_reads/Brucella-suis-0439_S9_L001_R1_001.fastq.gz /home/orourke/brucella_australia/bruce_reads/Brucella-suis-0439_S9_L001_R2_001.fastq.gz > B-suis-0439-aln-pe.sam  \n",
    "\n",
    "bwa mem -M /home/orourke/brucella_australia/bruce_ref/Brucella_suis_ATCC_23445.fna.gz /home/orourke/brucella_australia/bruce_reads/Brucella-suis-0440_S10_L001_R1_001.fastq.gz  /home/orourke/brucella_australia/bruce_reads/Brucella-suis-0440_S10_L001_R2_001.fastq.gz > B-suis-0440-aln-pe.sam"
   ]
  },
  {
   "cell_type": "markdown",
   "metadata": {},
   "source": [
    "#### Now run Picard applications for quality / error correction applications.\n",
    "First up: convert raw fastq files to bam file WITHOUT aligning."
   ]
  },
  {
   "cell_type": "raw",
   "metadata": {},
   "source": [
    "Picard FastaToSam:\n",
    "java -jar /etc/picard-tools-1.119/FastqToSam.jar F1=/home/orourke/brucella_australia/bruce_reads/Brucella-suis-0436_S6_L001_R1_001.fastq.gz F2=/home/orourke/brucella_australia/bruce_reads/Brucella-suis-0436_S6_L001_R2_001.fastq.gz O=0436-fastq_to_bam.fam SM=for_tool_testing \n",
    "\n",
    "java -jar /etc/picard-tools-1.119/FastqToSam.jar F1=/home/orourke/brucella_australia/bruce_reads/Brucella-suis-0437_S7_L001_R1_001.fastq.gz F2=/home/orourke/brucella_australia/bruce_reads/Brucella-suis-0437_S7_L001_R2_001.fastq.gz O=0437-fastq_to_bam.fam SM=for_tool_testing \n",
    "\n",
    "java -jar /etc/picard-tools-1.119/FastqToSam.jar F1=/home/orourke/brucella_australia/bruce_reads/Brucella-suis-0438_S8_L001_R1_001.fastq.gz F2=/home/orourke/brucella_australia/bruce_reads/Brucella-suis-0438_S8_L001_R2_001.fastq.gz O=0438-fastq_to_bam.fam SM=for_tool_testing \n",
    "\n",
    "java -jar /etc/picard-tools-1.119/FastqToSam.jar F1=/home/orourke/brucella_australia/bruce_reads/Brucella-suis-0439_S9_L001_R1_001.fastq.gz F2=/home/orourke/brucella_australia/bruce_reads/Brucella-suis-0439_S9_L001_R2_001.fastq.gz O=0439-fastq_to_bam.fam SM=for_tool_testing \n",
    "\n",
    "java -jar /etc/picard-tools-1.119/FastqToSam.jar F1=/home/orourke/brucella_australia/bruce_reads/Brucella-suis-0440_S10_L001_R1_001.fastq.gz F2=/home/orourke/brucella_australia/bruce_reads/Brucella-suis-0440_S10_L001_R2_001.fastq.gz O=0440-fastq_to_bam.fam SM=for_tool_testing "
   ]
  },
  {
   "cell_type": "markdown",
   "metadata": {},
   "source": [
    "#### Two following steps used in Picard workflow:\n",
    "1. Need to create a sequence dictionary for subsequent Picard tools to function. \n",
    "2. Merge the unaligned .bam file with the aligned .sam file."
   ]
  },
  {
   "cell_type": "raw",
   "metadata": {},
   "source": [
    "CreateSequenceDictionary: (about 1 sec)\n",
    "\n",
    "java -jar /etc/picard-tools-1.119/CreateSequenceDictionary.jar R=/home/orourke/brucella_australia/bruce_ref/Brucella_suis_ATCC_23445.fna O=/home/orourke/brucella_australia/bruce_ref/Brucella_suis_ATCC_23445.dict\n",
    "\n",
    "MergeBamAlignment: (about 5 min)\n",
    "\n",
    "java -jar /etc/picard-tools-1.119/MergeBamAlignment.jar ALIGNED=/home/orourke/brucella_australia/BWAmem/B-suis-0436-aln-pe.sam UNMAPPED=/home/orourke/brucella_australia/picard/0436-fastq_to_bam.fam O=/home/orourke/brucella_australia/picard/0436-merge_alignments.bam R=/home/orourke/brucella_australia/bruce_ref/Brucella_suis_ATCC_23445.fna PAIRED_RUN=true"
   ]
  },
  {
   "cell_type": "markdown",
   "metadata": {},
   "source": [
    "#### Check yourself with Picard's program validating sam files. \n",
    "1. Notice that something's wrong but you're not going to fix it.\n",
    "2. Notice that if you do try to fix it you end up making more mistakes. Definitely something to ask a pro about each error term."
   ]
  },
  {
   "cell_type": "raw",
   "metadata": {},
   "source": [
    "ValidateSamFile: (about 1 min)\n",
    "Checked to see problems with SAM files (the aligned ones, not the FastaToSam ones):\n",
    "java -jar /etc/picard-tools-1.119/ValidateSamFile.jar I=~/brucella_australia/picard/0436-merge_alignments.bam O=./here MODE=SUMMARY\n",
    "\n",
    "\n",
    "...get following output...\n",
    "\n",
    "## HISTOGRAM\tjava.lang.String\n",
    "Error Type\tCount\n",
    "ERROR:MATES_ARE_SAME_END\t84\n",
    "ERROR:MISMATCH_FLAG_MATE_NEG_STRAND\t84\n",
    "ERROR:MISMATCH_MATE_CIGAR_STRING\t84\n",
    "ERROR:MISSING_PLATFORM_VALUE\t1\n",
    "\n",
    "...will attempt to fix with \"FixMate.jar\" file...\n",
    "\n",
    "\n",
    "FixMate: (about 4 min)\n",
    "java -jar /etc/picard-tools-1.119/FixMateInformation.jar I=/home/orourke/brucella_australia/picard/0436-merge_alignments.bam O=/home/orourke/brucella_australia/picard/0436-merge_fixed_mate.bam\n",
    "\n",
    "\n",
    "ValidateSamFile ... again!: (about 1 min)\n",
    "Checked to see problems with SAM files (the aligned ones, not the FastaToSam ones):\n",
    "java -jar /etc/picard-tools-1.119/ValidateSamFile.jar I=/home/orourke/brucella_australia/picard/0436-merge_fixed_mate.bam O=./here2 MODE=SUMMARY\n",
    "\n",
    "...and the output was worse!...\n",
    "\n",
    "## HISTOGRAM\tjava.lang.String\n",
    "Error Type\tCount\n",
    "ERROR:MATES_ARE_SAME_END\t3638\n",
    "ERROR:MISMATCH_FLAG_MATE_NEG_STRAND\t254\n",
    "ERROR:MISMATCH_FLAG_MATE_UNMAPPED\t508\n",
    "ERROR:MISMATCH_MATE_CIGAR_STRING\t254\n",
    "ERROR:MISSING_PLATFORM_VALUE\t1"
   ]
  },
  {
   "cell_type": "markdown",
   "metadata": {},
   "source": [
    "#### Try to fix the read group designation.  \n",
    "- Next script to run is to add appropriate Read Group. Still not sure of what this specifically should be, but from what I can tell our data should have the same RGID values (Read Group ID) for every merged file, and should contain the same remaining values for RGLB (Read Group Library), RGPL (Read Group Platform), and RGPU (Read Group platform unit). However, each .bam file should have a unique RGSM (Read Group Sample name):\n",
    "(about 2 min each)"
   ]
  },
  {
   "cell_type": "raw",
   "metadata": {},
   "source": [
    "java -jar /etc/picard-tools-1.119/AddOrReplaceReadGroups.jar I=/home/orourke/brucella_australia/picard/0436-merge_alignments.bam O=/home/orourke/brucella_australia/picard/0436-ma_RGadded.bam RGID=1 RGLB=lib1 RGPL=illumina RGPU=unit1 RGSM=b-suis-0436\n",
    "\n",
    "java -jar /etc/picard-tools-1.119/AddOrReplaceReadGroups.jar I=/home/orourke/brucella_australia/picard/0437-merge_alignments.bam O=/home/orourke/brucella_australia/picard/0437-ma_RGadded.bam RGID=1 RGLB=lib1 RGPL=illumina RGPU=unit1 RGSM=b-suis-0437\n",
    "\n",
    "java -jar /etc/picard-tools-1.119/AddOrReplaceReadGroups.jar I=/home/orourke/brucella_australia/picard/0438-merge_alignments.bam O=/home/orourke/brucella_australia/picard/0438-ma_RGadded.bam RGID=1 RGLB=lib1 RGPL=illumina RGPU=unit1 RGSM=b-suis-0438\n",
    "\n",
    "java -jar /etc/picard-tools-1.119/AddOrReplaceReadGroups.jar I=/home/orourke/brucella_australia/picard/0439-merge_alignments.bam O=/home/orourke/brucella_australia/picard/0439-ma_RGadded.bam RGID=1 RGLB=lib1 RGPL=illumina RGPU=unit1 RGSM=b-suis-0439\n",
    "\n",
    "java -jar /etc/picard-tools-1.119/AddOrReplaceReadGroups.jar I=/home/orourke/brucella_australia/picard/0440-merge_alignments.bam O=/home/orourke/brucella_australia/picard/0440-ma_RGadded.bam RGID=1 RGLB=lib1 RGPL=illumina RGPU=unit1 RGSM=b-suis-0440\n",
    "\n",
    "\n",
    "@M02061:46:000000000-A84RD:1:1101:13544:1215 1:N:0:10\n",
    "java -jar picard.jar AddOrReplaceReadGroups \\ \n",
    "    INPUT=reads.bam \\ \n",
    "    OUTPUT=reads_addRG.bam \\ \n",
    "    RGID=H0164.2 \\ #be sure to change from default of 1\n",
    "    RGLB= library1 \\ \n",
    "    RGPL=illumina \\ \n",
    "    RGPU=H0164ALXX140820.2 \\ \n",
    "    RGSM=sample1 \\ "
   ]
  },
  {
   "cell_type": "raw",
   "metadata": {},
   "source": [
    "miscellaneous\n",
    "\n",
    "\n",
    "Sort .sam:\n",
    "java -jar -/etc/picard-tools-1.119/SortSam.jar SortSam \\ \n",
    "    INPUT=/home/orourke/brucella_australia/BWAindie/B-suis-0439-aln-pe.sam \\ \n",
    "    OUTPUT=B-suis-0439_sorted_reads.bam \\ \n",
    "    SORT_ORDER=coordinate \n",
    "\n",
    "Mark duplicates using Picard:\n",
    "java -jar ~/home/orourke/bin/picard.jar MarkDuplicates \\\n",
    "        INPUT=/home/orourke/brucella_australia/BWAindie/B-suis-0439-aln-pe.sam \\\n",
    "        OUTPUT=B-suis-0439_pe_sorted_noDup.bam \\\n",
    "        METRICS_FILE=B-suis-0439-metrics.txt\n",
    "        \n",
    "/etc/picard-tools-1.119/MarkDuplicates.jar\n",
    "/etc/picard-tools-1.119/CleanSam.jar\n",
    "/etc/picard-tools-1.119/FixMateInformation.jar\n",
    "... be sure to set SO=coordinate ...\n",
    "\n",
    "\n",
    "/etc/picard-tools-1.119/FastqToSam.jar (creates unaligned bam)\n",
    "/etc/picard-tools-1.119/ValidateSamFile.jar"
   ]
  },
  {
   "cell_type": "markdown",
   "metadata": {},
   "source": [
    "### Trimmomatic and Breseq commands to attempt\n",
    "- Need to convert reference .fasta into .gbk using Prokka [here] [link]\n",
    "    - note that you need to give Prokka a .fasta file, not a gzipped file.\n",
    "    - located in: /etc/prokka-1.9/bin\n",
    "[link]:http://metagenomics-workshop.readthedocs.org/en/latest/functional-annotation/prokka.html"
   ]
  },
  {
   "cell_type": "raw",
   "metadata": {},
   "source": [
    "General form:\n",
    "\n",
    "prokka --outdir mydir --prefix mygenome contigs.fa\n",
    "\n",
    "Example form:\n",
    "\n",
    "/usr/local/bin/prokka-1.9/bin/prokka --outdir ./prokka_output --prefix Brucella_suis_ATCC_23445 Brucella_suis_ATCC_23445.fna"
   ]
  },
  {
   "cell_type": "markdown",
   "metadata": {},
   "source": [
    "- looks like the code worked, but failed in creating a .gbk file ... however it did create a .gff so it appears that everything except a conversion from .gff to .gbk was successful. looking at the log it's the very last line that fails, being uanble to run a command that requires 'tbl2asn' ... might be a directory that was changed?\n",
    "- in any event you can download this very thing from NCBI anyway.\n",
    "- there are also ways to convert .gff to .gbk if needed in the future"
   ]
  },
  {
   "cell_type": "markdown",
   "metadata": {},
   "source": [
    "- Next run Trimmomatic [here] [link] on .fastq files:\n",
    "    - example to try listed below. make sure to have directory substructures already created (won't create new directories listed in command by default)\n",
    "[link]:http://www.usadellab.org/cms/uploads/supplementary/Trimmomatic/TrimmomaticManual_V0.32.pdf"
   ]
  },
  {
   "cell_type": "raw",
   "metadata": {},
   "source": [
    "General form:\n",
    "\n",
    "java -jar /etc/Trimmomatic-0.32/trimmomatic-0.32.jar PE -phred33 [path/to/fastq_1].fq [path/to/fastq_2].fq Trimmed/[fastq_1_PE].fq Trimmed/[fastq_1_unP].fq Trimmed/[fastq_2_PE].fq Trimmed/[fastq_2_unP].fq ILLUMINACLIP:/etc/Trimmomatic-0.32/adapters/NexteraPE-PE.fa:2:30:10"
   ]
  },
  {
   "cell_type": "raw",
   "metadata": {},
   "source": [
    "Example form:\n",
    "\n",
    "java -jar /etc/Trimmomatic-0.32/trimmomatic-0.32.jar PE -phred33 /home/orourke/brucella_australia/bruce_reads/Brucella-suis-0436_S6_L001_R1_001.fastq.gz /home/orourke/brucella_australia/bruce_reads/Brucella-suis-0436_S6_L001_R2_001.fastq.gz ./Trimmed/B-suis-0436_1_PE.fq ./Trimmed/B-suis-0436_1_SE.fq ./Trimmed/B-suis-0436_2_PE.fq ./Trimmed/B-suis-0436_2_SE.fq ILLUMINACLIP:/etc/Trimmomatic-0.32/adapters/NexteraPE-PE.fa:2:30:10\n",
    "\n",
    "output:\n",
    "Using 1 prefix pairs, 4 forward/reverse sequences, 0 forward only sequences, 0 reverse only sequences\n",
    "Input Read Pairs: 1506296 Both Surviving: 1494400 (99.21%) Forward Only Surviving: 11896 (0.79%) Reverse Only Surviving: 0 (0.00%) Dropped: 0 (0.00%)\n",
    "\n",
    "...\n",
    "\n",
    "java -jar /etc/Trimmomatic-0.32/trimmomatic-0.32.jar PE -phred33 /home/orourke/brucella_australia/bruce_reads/Brucella-suis-0437_S7_L001_R1_001.fastq.gz /home/orourke/brucella_australia/bruce_reads/Brucella-suis-0437_S7_L001_R2_001.fastq.gz ./Trimmed/B-suis-0437_1_PE.fq ./Trimmed/B-suis-0437_1_SE.fq ./Trimmed/B-suis-0437_2_PE.fq ./Trimmed/B-suis-0437_2_SE.fq ILLUMINACLIP:/etc/Trimmomatic-0.32/adapters/NexteraPE-PE.fa:2:30:10\n",
    "\n",
    "output:\n",
    "Using 1 prefix pairs, 4 forward/reverse sequences, 0 forward only sequences, 0 reverse only sequences\n",
    "Input Read Pairs: 1169341 Both Surviving: 1159575 (99.16%) Forward Only Surviving: 9766 (0.84%) Reverse Only Surviving: 0 (0.00%) Dropped: 0 (0.00%)\n",
    "\n",
    "...\n",
    "\n"
   ]
  },
  {
   "cell_type": "markdown",
   "metadata": {},
   "source": [
    "- Run Breseq see [here] [link]. Found original Genbank file [here] [link2]\n",
    "[link]:http://barricklab.org/twiki/pub/Lab/ToolsBacterialGenomeResequencing/documentation/usage.html\n",
    "[link2]:http://www.ncbi.nlm.nih.gov/genome/806?genome_assembly_id=168479"
   ]
  },
  {
   "cell_type": "raw",
   "metadata": {},
   "source": [
    "General form:\n",
    "\n",
    "breseq -p -r [path/to/genbank/file]  -o [path/to/output/directory] -j 2 --base-quality-cutoff=10 [path/to/PE_1] [path/to/SE_1] [path/to/PE_2] [path/to/SE_2]\n",
    "\n",
    "\n",
    "Example form:\n",
    "\n",
    "breseq -p -r /home/orourke/brucella_australia/breseq/GCF_000018905.1_ASM1890v1_genomic.gbff  -o ./output -j 2 --base-quality-cutoff=10 /home/orourke/brucella_australia/breseq/Trimmed/B-suis-0436_1_PE.fq  /home/orourke/brucella_australia/breseq/Trimmed/B-suis-0436_1_SE.fq /home/orourke/brucella_australia/breseq/Trimmed/B-suis-0436_2_PE.fq /home/orourke/brucella_australia/breseq/Trimmed/B-suis-0436_2_SE.fq"
   ]
  },
  {
   "cell_type": "markdown",
   "metadata": {
    "collapsed": true
   },
   "source": [
    "# Going to try all over again...\n",
    "\n",
    "### Create the reference files"
   ]
  },
  {
   "cell_type": "raw",
   "metadata": {},
   "source": [
    "# first make a reference index, the .amb, .ann, .bwt, .pac, and .sa files\n",
    "/usr/local/bin/bwa index /home/orourke/brucella_australia/BWAmem/fake_ref/Brucella_suis_ATCC_23445.fna\n",
    "\n",
    "#next make the sequence dictionary, the .dict file\n",
    "java -Xmx2G -jar /home/orourke/bin/picard.jar CreateSequenceDictionary R=/home/orourke/brucella_australia/BWAmem/fake_ref/Brucella_suis_ATCC_23445.fna O=/home/orourke/brucella_australia/BWAmem/fake_ref/reference.dict\n",
    "\n",
    "#finally, index the index file, making the .fai file\n",
    "/opt/samtools/samtools-1.3/samtools faidx /home/orourke/brucella_australia/BWAmem/fake_ref/Brucella_suis_ATCC_23445.fna\n",
    "\n",
    "#find duplicates in reference, makes duplicates.txt, reference.delta files\n",
    "find_duplicates --nucmerpath /usr/bin/nucmer --reference /home/orourke/brucella_australia/BWAmem/fake_ref/Brucella_suis_ATCC_23445.fna"
   ]
  },
  {
   "cell_type": "markdown",
   "metadata": {},
   "source": [
    "### Run BWA to perform the alignment per "
   ]
  },
  {
   "cell_type": "raw",
   "metadata": {},
   "source": [
    "# note that the -R flag is used for defining the read group header and that the -M flag for marking duplicates was not performed (as often suggested in best practices) I think, because we've found them already in the last step of creating the reference file\n",
    "\n",
    "/usr/local/bin/bwa mem -R '@RG\\tID:Brucella-suis-0440_S10_L001\\tSM:Brucella-suis-0440_S10_L001'  -t 4 /home/orourke/brucella_australia/BWAmem/fake_ref/Brucella_suis_ATCC_23445.fna /home/orourke/brucella_australia/BWAmem/fake_reads/Brucella-suis-0440_S10_L001_R1_001.fastq.gz /home/orourke/brucella_australia/BWAmem/fake_reads/Brucella-suis-0440_S10_L001_R2_001.fastq.gz > 0440_aln.sam"
   ]
  },
  {
   "cell_type": "markdown",
   "metadata": {},
   "source": [
    "### Run Samtools to convert and sort to .bam file, and create bam index file before SNP calling"
   ]
  },
  {
   "cell_type": "raw",
   "metadata": {},
   "source": [
    "# convert from .sam to .bam format\n",
    "/opt/samtools/samtools-1.3/samtools view -S -b -h /home/orourke/brucella_australia/BWAmem/0440_aln.sam -o /home/orourke/brucella_australia/BWAmem/0440_aln.bam\n",
    "\n",
    "# sort the .bam file\n",
    "/opt/samtools/samtools-1.3/samtools sort /home/orourke/brucella_australia/BWAmem/0440_aln.bam > /home/orourke/brucella_australia/BWAmem/0440_aln_sorted.bam\n",
    "\n",
    "# create .bam index file\n",
    "/opt/samtools/samtools-1.3/samtools index /home/orourke/brucella_australia/BWAmem/0440_aln_sorted.bam /home/orourke/brucella_australia/BWAmem/0440_aln_sorted.bai"
   ]
  },
  {
   "cell_type": "markdown",
   "metadata": {},
   "source": [
    "### Call SNPs with GATK"
   ]
  },
  {
   "cell_type": "raw",
   "metadata": {},
   "source": [
    "### See if GATK is functioning properly and .bam file is formatted correctly\n",
    "java -jar /opt/gatk/gatk-3.5/GenomeAnalysisTK.jar -T CountReads -R /home/orourke/brucella_australia/BWAmem/fake_ref/Brucella_suis_ATCC_23445.fna -I /home/orourke/brucella_australia/BWAmem/nasp_bams/0440_aln_sorted.bam\n",
    "\n",
    "... current error: java not being able to be loaded ...\n"
   ]
  }
 ],
 "metadata": {
  "kernelspec": {
   "display_name": "Python 3",
   "language": "python",
   "name": "python3"
  },
  "language_info": {
   "codemirror_mode": {
    "name": "ipython",
    "version": 3
   },
   "file_extension": ".py",
   "mimetype": "text/x-python",
   "name": "python",
   "nbconvert_exporter": "python",
   "pygments_lexer": "ipython3",
   "version": "3.5.1"
  }
 },
 "nbformat": 4,
 "nbformat_minor": 0
}
